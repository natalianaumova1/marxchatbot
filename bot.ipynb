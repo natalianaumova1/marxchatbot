{
 "cells": [
  {
   "cell_type": "code",
   "execution_count": null,
   "id": "c973ddd8",
   "metadata": {},
   "outputs": [],
   "source": [
    "from llama_index.llms.groq import Groq\n",
    "from llama_index.embeddings.huggingface import HuggingFaceEmbedding\n",
    "from llama_index.core import StorageContext, load_index_from_storage\n",
    "from llama_index.core.chat_engine import ContextChatEngine\n",
    "from llama_index.core.memory import ChatMemoryBuffer\n",
    "from llama_index.core.base.llms.types import ChatMessage, MessageRole\n",
    "from llama_index.core import SimpleDirectoryReader\n",
    "from llama_index.core.node_parser import SentenceSplitter\n",
    "from llama_index.embeddings.huggingface import HuggingFaceEmbedding\n",
    "from llama_index.core import VectorStoreIndex\n",
    "from llama_index.core.prompts import PromptTemplate\n",
    "from dotenv import load_dotenv\n",
    "import streamlit as st\n",
    "import os"
   ]
  },
  {
   "cell_type": "code",
   "execution_count": null,
   "id": "45825f4b",
   "metadata": {},
   "outputs": [],
   "source": [
    "DATA_DIR = \"/Users/nnaumova/Desktop/Data Science Course/Projects/comchatbot/data\"              # data directory\n",
    "PERSIST_DIR = \"/Users/nnaumova/Desktop/Data Science Course/Projects/comchatbot/vector_index\"   # directiry for index\n",
    "EMBEDDING_MODEL = \"sentence-transformers/all-MiniLM-L6-v2\"\n",
    "\n",
    "load_dotenv()\n",
    "GROQ_API_KEY = os.getenv(\"GROQ_API_KEY\")\n",
    "HF_TOKEN = os.getenv(\"HF_TOKEN\")"
   ]
  },
  {
   "cell_type": "code",
   "execution_count": 5,
   "id": "f2a2b69c",
   "metadata": {},
   "outputs": [
    {
     "data": {
      "application/vnd.jupyter.widget-view+json": {
       "model_id": "87831837a89f41b08f889962f8611b63",
       "version_major": 2,
       "version_minor": 0
      },
      "text/plain": [
       "modules.json:   0%|          | 0.00/349 [00:00<?, ?B/s]"
      ]
     },
     "metadata": {},
     "output_type": "display_data"
    },
    {
     "data": {
      "application/vnd.jupyter.widget-view+json": {
       "model_id": "a6d81d5b0f54428688b0ebc51c057257",
       "version_major": 2,
       "version_minor": 0
      },
      "text/plain": [
       "config_sentence_transformers.json:   0%|          | 0.00/116 [00:00<?, ?B/s]"
      ]
     },
     "metadata": {},
     "output_type": "display_data"
    },
    {
     "data": {
      "application/vnd.jupyter.widget-view+json": {
       "model_id": "c5d2cecd86a547f19dab3ec521cb4dec",
       "version_major": 2,
       "version_minor": 0
      },
      "text/plain": [
       "README.md: 0.00B [00:00, ?B/s]"
      ]
     },
     "metadata": {},
     "output_type": "display_data"
    },
    {
     "data": {
      "application/vnd.jupyter.widget-view+json": {
       "model_id": "04a24149a48e4f58b8e7d47508439724",
       "version_major": 2,
       "version_minor": 0
      },
      "text/plain": [
       "sentence_bert_config.json:   0%|          | 0.00/53.0 [00:00<?, ?B/s]"
      ]
     },
     "metadata": {},
     "output_type": "display_data"
    },
    {
     "data": {
      "application/vnd.jupyter.widget-view+json": {
       "model_id": "02d99474898a42019c990438fb049e93",
       "version_major": 2,
       "version_minor": 0
      },
      "text/plain": [
       "config.json:   0%|          | 0.00/612 [00:00<?, ?B/s]"
      ]
     },
     "metadata": {},
     "output_type": "display_data"
    },
    {
     "data": {
      "application/vnd.jupyter.widget-view+json": {
       "model_id": "4fdaba1d8c6342a0a3e88d533d0adb1b",
       "version_major": 2,
       "version_minor": 0
      },
      "text/plain": [
       "model.safetensors:   0%|          | 0.00/90.9M [00:00<?, ?B/s]"
      ]
     },
     "metadata": {},
     "output_type": "display_data"
    },
    {
     "data": {
      "application/vnd.jupyter.widget-view+json": {
       "model_id": "8a7f539dfde24af79963a3406fb87187",
       "version_major": 2,
       "version_minor": 0
      },
      "text/plain": [
       "tokenizer_config.json:   0%|          | 0.00/350 [00:00<?, ?B/s]"
      ]
     },
     "metadata": {},
     "output_type": "display_data"
    },
    {
     "data": {
      "application/vnd.jupyter.widget-view+json": {
       "model_id": "93a6426f2bff437fbae6e7b57c2f77c9",
       "version_major": 2,
       "version_minor": 0
      },
      "text/plain": [
       "vocab.txt: 0.00B [00:00, ?B/s]"
      ]
     },
     "metadata": {},
     "output_type": "display_data"
    },
    {
     "data": {
      "application/vnd.jupyter.widget-view+json": {
       "model_id": "fdf6d1acdb3347cd929065c71e86fcf7",
       "version_major": 2,
       "version_minor": 0
      },
      "text/plain": [
       "tokenizer.json: 0.00B [00:00, ?B/s]"
      ]
     },
     "metadata": {},
     "output_type": "display_data"
    },
    {
     "data": {
      "application/vnd.jupyter.widget-view+json": {
       "model_id": "cc066d13c1f74729b35e7cfaad2e4edc",
       "version_major": 2,
       "version_minor": 0
      },
      "text/plain": [
       "special_tokens_map.json:   0%|          | 0.00/112 [00:00<?, ?B/s]"
      ]
     },
     "metadata": {},
     "output_type": "display_data"
    },
    {
     "data": {
      "application/vnd.jupyter.widget-view+json": {
       "model_id": "53d71be63dd94ac3b2499c48da36d80c",
       "version_major": 2,
       "version_minor": 0
      },
      "text/plain": [
       "config.json:   0%|          | 0.00/190 [00:00<?, ?B/s]"
      ]
     },
     "metadata": {},
     "output_type": "display_data"
    }
   ],
   "source": [
    "llm = Groq(model=\"llama-3.1-8b-instant\", api_key=GROQ_API_KEY)\n",
    "\n",
    "embeddings = HuggingFaceEmbedding(\n",
    "    model_name=EMBEDDING_MODEL,\n",
    "    cache_folder=\"/Users/nnaumova/Desktop/Data Science Course/Projects/comchatbot/embedding_model\"\n",
    ")"
   ]
  },
  {
   "cell_type": "code",
   "execution_count": 6,
   "id": "229aa8fd",
   "metadata": {},
   "outputs": [],
   "source": [
    "def get_or_create_index():\n",
    "    if os.path.exists(PERSIST_DIR):\n",
    "        storage_context = StorageContext.from_defaults(persist_dir=PERSIST_DIR)\n",
    "        index = load_index_from_storage(storage_context, embed_model=embeddings)\n",
    "    else:\n",
    "        documents = SimpleDirectoryReader(DATA_DIR).load_data()\n",
    "        text_splitter = SentenceSplitter(chunk_size=800, chunk_overlap=150)\n",
    "        index = VectorStoreIndex.from_documents(\n",
    "            documents,\n",
    "            transformations=[text_splitter],\n",
    "            embed_model=embeddings\n",
    "        )\n",
    "        index.storage_context.persist(persist_dir=PERSIST_DIR)\n",
    "    return index\n"
   ]
  },
  {
   "cell_type": "code",
   "execution_count": null,
   "id": "1aefa460",
   "metadata": {},
   "outputs": [],
   "source": [
    "input_template = \"\"\"Here is the context:\n",
    "{context_str}\n",
    "Answer the question based on the above context.\n",
    "Answer the question as a marxist would.\n",
    "Question: {query_str}\n",
    "Answer:\"\"\"\n",
    "\n",
    "prompt = PromptTemplate(template=input_template)\n"
   ]
  },
  {
   "cell_type": "code",
   "execution_count": null,
   "id": "e9812b72",
   "metadata": {},
   "outputs": [],
   "source": [
    "# -------------------------------\n",
    "# Streamlit UI\n",
    "# -------------------------------\n",
    "st.title(\"Marxist chatbot\")\n",
    "\n",
    "st.write(\"Get answers to your questions about the economy and society from the three volumes of Capital.\")\n",
    "\n",
    "# Loading index\n",
    "index = get_or_create_index()\n",
    "chat_engine = index.as_chat_engine(chat_mode=\"condense_question\", llm=llm, verbose=True)\n",
    "\n",
    "# UI for questions\n",
    "if \"chat_history\" not in st.session_state:\n",
    "    st.session_state.chat_history = []\n",
    "\n",
    "user_input = st.text_input(\"Ask a question:\")\n",
    "\n",
    "if user_input:\n",
    "    retriever = index.as_retriever(similarity_top_k=3)\n",
    "    context_nodes = retriever.retrieve(user_input)\n",
    "    context_text = \"\\n\".join([node.get_text() for node in context_nodes])\n",
    "\n",
    "    filled_prompt = prompt.format(context_str=context_text, query_str=user_input)\n",
    "\n",
    "    response = chat_engine.chat(filled_prompt)\n",
    "    answer_text = response.response if hasattr(response, \"response\") else str(response)\n",
    "\n",
    "    st.session_state.chat_history.append((\"You\", user_input))\n",
    "    st.session_state.chat_history.append((\"Marxist-bot\", answer_text))\n",
    "\n",
    "# Memory\n",
    "for speaker, message in st.session_state.chat_history:\n",
    "    st.markdown(f\"**{speaker}:** {message}\")"
   ]
  }
 ],
 "metadata": {
  "kernelspec": {
   "display_name": "base",
   "language": "python",
   "name": "python3"
  },
  "language_info": {
   "codemirror_mode": {
    "name": "ipython",
    "version": 3
   },
   "file_extension": ".py",
   "mimetype": "text/x-python",
   "name": "python",
   "nbconvert_exporter": "python",
   "pygments_lexer": "ipython3",
   "version": "3.12.7"
  }
 },
 "nbformat": 4,
 "nbformat_minor": 5
}
